{
 "cells": [
  {
   "cell_type": "code",
   "execution_count": null,
   "id": "d413eb8a",
   "metadata": {
    "vscode": {
     "languageId": "plaintext"
    }
   },
   "outputs": [],
   "source": [
    "import requests\n",
    "from PIL import Image\n",
    "from io import BytesIO\n",
    "import numpy as np\n",
    "from matplotlib import pyplot as plt\n",
    "from google.colab import files"
   ]
  },
  {
   "cell_type": "code",
   "execution_count": null,
   "id": "a72322b7",
   "metadata": {
    "vscode": {
     "languageId": "plaintext"
    }
   },
   "outputs": [],
   "source": [
    "#função de download da imagem\n",
    "def download_image(url):\n",
    "  try:\n",
    "    response = requests.get(url)\n",
    "    response.raise_for_status()\n",
    "    image = Image.open(BytesIO(response.content))\n",
    "    return image\n",
    "  except requests.exceptions.RequestException as e:\n",
    "    print(f\"Não foi possivel realizar o download da imagem: {e}\")\n",
    "    return None"
   ]
  },
  {
   "cell_type": "code",
   "execution_count": null,
   "id": "031dfc40",
   "metadata": {
    "vscode": {
     "languageId": "plaintext"
    }
   },
   "outputs": [],
   "source": [
    "#função de conversão para tons de cinza e binarizada\n",
    "def convert_image(color_name, threshold = 128):\n",
    "  color_array = np.array(color_name)\n",
    "  if len(color_array.shape) == 3 and color_array.shape[2] == 4:\n",
    "    color_array = color_array[..., :3]\n",
    "\n",
    "  if len(color_array.shape) == 3:\n",
    "    gray_array = np.dot(color_array[..., :3], [0.2989, 0.5870, 0.1140]).astype(np.uint8)\n",
    "  else:\n",
    "    gray_array = color_array\n",
    "\n",
    "  binary_array = np.where(gray_array > threshold, 255, 0).astype(np.uint8)\n",
    "\n",
    "  return gray_array, binary_array"
   ]
  },
  {
   "cell_type": "code",
   "execution_count": null,
   "id": "6de78923",
   "metadata": {
    "vscode": {
     "languageId": "plaintext"
    }
   },
   "outputs": [],
   "source": [
    "#baixar e converter a imagem\n",
    "image_url = \"https://thumbs.dreamstime.com/b/fotografia-de-moda-colorida-modelo-c%C3%A3o-bem-vestido-sofisticada-e-divertida-com-um-colorido-numa-voga-gucci-c%C3%A3es-fato-268150008.jpg\"\n",
    "print(\"Baixando a imagem\")\n",
    "color_image = download_image(image_url)\n",
    "\n",
    "if color_image:\n",
    "    print(\"\\nConvertendo imagem...\")\n",
    "    gray_array, binary_array = convert_image(color_image, threshold=128)\n",
    "    \n",
    "    gray_image = Image.fromarray(gray_array)\n",
    "    binary_image = Image.fromarray(binary_array)"
   ]
  },
  {
   "cell_type": "code",
   "execution_count": null,
   "id": "f51527c3",
   "metadata": {
    "vscode": {
     "languageId": "plaintext"
    }
   },
   "outputs": [],
   "source": [
    "    #plotar os resultados\n",
    "    print(\"\\nExibindo resultados...\")\n",
    "    plt.figure(figsize=(15, 5))\n",
    "    \n",
    "    plt.subplot(1, 3, 1)\n",
    "    plt.imshow(color_image)\n",
    "    plt.title(\"Imagem Original\")\n",
    "    plt.axis('off')\n",
    "    \n",
    "    plt.subplot(1, 3, 2)\n",
    "    plt.imshow(gray_image, cmap='gray')\n",
    "    plt.title(\"Tons de Cinza\")\n",
    "    plt.axis('off')\n",
    "    \n",
    "    plt.subplot(1, 3, 3)\n",
    "    plt.imshow(binary_image, cmap='gray')\n",
    "    plt.title(\"Imagem Binarizada\")\n",
    "    plt.axis('off')\n",
    "    \n",
    "    plt.show()"
   ]
  }
 ],
 "metadata": {
  "language_info": {
   "name": "python"
  }
 },
 "nbformat": 4,
 "nbformat_minor": 5
}
